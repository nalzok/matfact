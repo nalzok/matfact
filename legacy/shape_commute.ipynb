{
 "cells": [
  {
   "cell_type": "markdown",
   "metadata": {},
   "source": [
    "From BATS: https://github.com/CompTop/BATS/blob/master/include/linalg/sparse_fact.hpp#L314\n",
    "\n",
    "0. Ltilde initialized as identity\n",
    "1. Extract scale from EL\n",
    "    + for unit EL, we have EL * L = Ltil * EL\n",
    "    + with diagonal row scaling, use D EL L = D Ltil D^{-1} D EL\n",
    "2. construct index map\n",
    "3. fill-in non-zeros of Ltilde\n",
    "    + Ltilde(idx_map[i], idx_map[j]) = L[i,j]\n",
    "    \n",
    "Alternatively: Ltilde = E * L * EL.T(); (after extracting scaling)"
   ]
  },
  {
   "cell_type": "code",
   "execution_count": 9,
   "metadata": {},
   "outputs": [],
   "source": [
    "def col_pivot(A, j):\n",
    "    \"\"\"\n",
    "    last non-zero index of column j in A\n",
    "    -1 if column is all zero\n",
    "    \"\"\"\n",
    "    return max([i for i in range(A.shape[0]) if A[i,j] != 0], default=-1)\n",
    "\n",
    "def index_map(A):\n",
    "    \"\"\"\n",
    "    index_map[j] is pivot index of column j in A\n",
    "    \"\"\"\n",
    "    index_map = []\n",
    "    for j in range(A.shape[1]):\n",
    "        index_map.append(col_pivot(A, j))\n",
    "        \n",
    "    return index_map"
   ]
  },
  {
   "cell_type": "code",
   "execution_count": 6,
   "metadata": {},
   "outputs": [],
   "source": [
    "import numpy as np\n",
    "A = np.eye(3)\n",
    "A[0,0] = 0"
   ]
  },
  {
   "cell_type": "code",
   "execution_count": 10,
   "metadata": {},
   "outputs": [
    {
     "data": {
      "text/plain": [
       "-1"
      ]
     },
     "execution_count": 10,
     "metadata": {},
     "output_type": "execute_result"
    }
   ],
   "source": [
    "col_pivot(A, 0)"
   ]
  },
  {
   "cell_type": "code",
   "execution_count": 19,
   "metadata": {},
   "outputs": [],
   "source": [
    "def EL_L_commute(EL, L):\n",
    "    m, n = EL.shape\n",
    "    # TODO: extract scaling, so EL only has 1s or 0s\n",
    "    \n",
    "    imap = index_map(EL)\n",
    "    L2 = np.eye(m)\n",
    "    for j in range(n):\n",
    "        if (imap[j] == -1):\n",
    "            break\n",
    "        for i in range(j,n):\n",
    "            if (imap[i] == -1):\n",
    "                break\n",
    "            L2[imap[i],imap[j]] = L[i,j]\n",
    "            \n",
    "    # TODO: apply scaling\n",
    "                \n",
    "                \n",
    "    return L2"
   ]
  },
  {
   "cell_type": "code",
   "execution_count": 26,
   "metadata": {},
   "outputs": [],
   "source": [
    "def EL_pseudoinverse(EL):\n",
    "    \"\"\"\n",
    "    return pseudoinverse\n",
    "    \"\"\"\n",
    "    EL2 = EL.T\n",
    "    for i in range(EL2.shape[0]):\n",
    "        for j in range(EL2.shape[1]):\n",
    "            if EL2[i,j] != 0:\n",
    "                EL2[i,j] = 1/EL2[i,j]\n",
    "                \n",
    "    return EL2"
   ]
  },
  {
   "cell_type": "code",
   "execution_count": 27,
   "metadata": {},
   "outputs": [],
   "source": [
    "def EL_L_commute(EL, L):\n",
    "    # TODO: handle scaling of EL   \n",
    "    # EL.T is left-pseudoinverse of EL if you have unit entries\n",
    "    # could replace EL.T with pseudo inverse to handle scaling\n",
    "    return EL @ L @ EL_pseudoinverse(EL)"
   ]
  },
  {
   "cell_type": "code",
   "execution_count": 29,
   "metadata": {},
   "outputs": [
    {
     "data": {
      "text/plain": [
       "array([[0, 0],\n",
       "       [0, 0]])"
      ]
     },
     "execution_count": 29,
     "metadata": {},
     "output_type": "execute_result"
    }
   ],
   "source": [
    "EL = np.array([[2,0],[0,3]])\n",
    "L = np.array([[1,0],[2,1]])\n",
    "L2 = EL_L_commute(EL,L)\n",
    "L2 @ EL - EL @ L"
   ]
  },
  {
   "cell_type": "code",
   "execution_count": 30,
   "metadata": {},
   "outputs": [
    {
     "data": {
      "text/plain": [
       "array([[0, 0],\n",
       "       [0, 0]])"
      ]
     },
     "execution_count": 30,
     "metadata": {},
     "output_type": "execute_result"
    }
   ],
   "source": [
    "EL = np.array([[0,0],[2,0]])\n",
    "L = np.array([[1,0],[2,1]])\n",
    "L2 = EL_L_commute(EL,L)\n",
    "L2 @ EL - EL @ L"
   ]
  },
  {
   "cell_type": "code",
   "execution_count": null,
   "metadata": {},
   "outputs": [],
   "source": []
  }
 ],
 "metadata": {
  "kernelspec": {
   "display_name": "Python [conda env:bats]",
   "language": "python",
   "name": "conda-env-bats-py"
  },
  "language_info": {
   "codemirror_mode": {
    "name": "ipython",
    "version": 3
   },
   "file_extension": ".py",
   "mimetype": "text/x-python",
   "name": "python",
   "nbconvert_exporter": "python",
   "pygments_lexer": "ipython3",
   "version": "3.7.10"
  }
 },
 "nbformat": 4,
 "nbformat_minor": 4
}
