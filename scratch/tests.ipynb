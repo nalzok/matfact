{
 "cells": [
  {
   "cell_type": "code",
   "execution_count": 1,
   "metadata": {},
   "outputs": [],
   "source": [
    "import sys\n",
    "\n",
    "import sys\n",
    "sys.path.insert(0,'..')"
   ]
  },
  {
   "cell_type": "code",
   "execution_count": 24,
   "metadata": {},
   "outputs": [],
   "source": [
    "import leup\n",
    "from leup import leup"
   ]
  },
  {
   "cell_type": "code",
   "execution_count": 25,
   "metadata": {},
   "outputs": [
    {
     "ename": "AttributeError",
     "evalue": "'function' object has no attribute 'leup'",
     "output_type": "error",
     "traceback": [
      "\u001b[0;31m---------------------------------------------------------------------------\u001b[0m",
      "\u001b[0;31mAttributeError\u001b[0m                            Traceback (most recent call last)",
      "\u001b[0;32m<ipython-input-25-1f11754387f6>\u001b[0m in \u001b[0;36m<module>\u001b[0;34m\u001b[0m\n\u001b[1;32m      1\u001b[0m \u001b[0;32mimport\u001b[0m \u001b[0mnumpy\u001b[0m \u001b[0;32mas\u001b[0m \u001b[0mnp\u001b[0m\u001b[0;34m\u001b[0m\u001b[0;34m\u001b[0m\u001b[0m\n\u001b[1;32m      2\u001b[0m \u001b[0mA\u001b[0m \u001b[0;34m=\u001b[0m \u001b[0mnp\u001b[0m\u001b[0;34m.\u001b[0m\u001b[0mrandom\u001b[0m\u001b[0;34m.\u001b[0m\u001b[0mrandn\u001b[0m\u001b[0;34m(\u001b[0m\u001b[0;36m5\u001b[0m\u001b[0;34m,\u001b[0m\u001b[0;36m4\u001b[0m\u001b[0;34m)\u001b[0m\u001b[0;34m\u001b[0m\u001b[0;34m\u001b[0m\u001b[0m\n\u001b[0;32m----> 3\u001b[0;31m \u001b[0mleup\u001b[0m\u001b[0;34m.\u001b[0m\u001b[0mleup\u001b[0m\u001b[0;34m(\u001b[0m\u001b[0mA\u001b[0m\u001b[0;34m)\u001b[0m\u001b[0;34m\u001b[0m\u001b[0;34m\u001b[0m\u001b[0m\n\u001b[0m",
      "\u001b[0;31mAttributeError\u001b[0m: 'function' object has no attribute 'leup'"
     ]
    }
   ],
   "source": [
    "import numpy as np\n",
    "A = np.random.randn(5,4)\n",
    "leup.leup(A)"
   ]
  },
  {
   "cell_type": "code",
   "execution_count": 26,
   "metadata": {},
   "outputs": [
    {
     "data": {
      "text/plain": [
       "array([[ 1.76405235,  0.40015721,  0.97873798,  2.2408932 ],\n",
       "       [ 1.86755799, -0.97727788,  0.95008842, -0.15135721],\n",
       "       [-0.10321885,  0.4105985 ,  0.14404357,  1.45427351],\n",
       "       [ 0.76103773,  0.12167502,  0.44386323,  0.33367433],\n",
       "       [ 1.49407907, -0.20515826,  0.3130677 , -0.85409574]])"
      ]
     },
     "execution_count": 26,
     "metadata": {},
     "output_type": "execute_result"
    }
   ],
   "source": [
    "np.random.seed(0)\n",
    "m , n = 5, 4\n",
    "A = np.random.randn(m,n)\n",
    "A"
   ]
  },
  {
   "cell_type": "code",
   "execution_count": 27,
   "metadata": {},
   "outputs": [],
   "source": [
    "A[0] = 0 # causes issue\n",
    "# A[:,0] = 0 # causes issue\n",
    "# A[0,0] = 0 # works fine"
   ]
  },
  {
   "cell_type": "code",
   "execution_count": 29,
   "metadata": {},
   "outputs": [],
   "source": [
    "L, E, U, P = leup(A)"
   ]
  },
  {
   "cell_type": "code",
   "execution_count": 30,
   "metadata": {},
   "outputs": [
    {
     "data": {
      "text/plain": [
       "1.008410140090063e-15"
      ]
     },
     "execution_count": 30,
     "metadata": {},
     "output_type": "execute_result"
    }
   ],
   "source": [
    "np.linalg.norm(L @ E @ U @ P - A)"
   ]
  },
  {
   "cell_type": "code",
   "execution_count": 31,
   "metadata": {},
   "outputs": [
    {
     "data": {
      "text/plain": [
       "array([[ 0.        ,  0.        ,  0.        ,  0.        ],\n",
       "       [ 1.86755799,  0.        ,  0.        ,  0.        ],\n",
       "       [ 0.        ,  0.35658492,  0.        ,  0.        ],\n",
       "       [ 0.        ,  0.        , -0.22988862,  0.        ],\n",
       "       [ 0.        ,  0.        ,  0.        ,  2.62770777]])"
      ]
     },
     "execution_count": 31,
     "metadata": {},
     "output_type": "execute_result"
    }
   ],
   "source": [
    "E"
   ]
  },
  {
   "cell_type": "code",
   "execution_count": 32,
   "metadata": {},
   "outputs": [],
   "source": [
    "from fractions import Fraction"
   ]
  },
  {
   "cell_type": "code",
   "execution_count": 33,
   "metadata": {},
   "outputs": [],
   "source": [
    "M = np.zeros((5, 4), dtype=object)\n",
    "M[0, 1] = Fraction(2, 3)\n",
    "M[1, 0] = Fraction(3, 4)\n",
    "L, E, U, P = leup(M)"
   ]
  },
  {
   "cell_type": "code",
   "execution_count": 37,
   "metadata": {},
   "outputs": [
    {
     "data": {
      "text/plain": [
       "array([[Fraction(2, 3), 0, 0, 0],\n",
       "       [0, Fraction(3, 4), 0, 0],\n",
       "       [0, 0, Fraction(0, 1), Fraction(0, 1)],\n",
       "       [0, 0, Fraction(0, 1), Fraction(0, 1)],\n",
       "       [0, 0, Fraction(0, 1), Fraction(0, 1)]], dtype=object)"
      ]
     },
     "execution_count": 37,
     "metadata": {},
     "output_type": "execute_result"
    }
   ],
   "source": [
    "E"
   ]
  },
  {
   "cell_type": "code",
   "execution_count": 48,
   "metadata": {},
   "outputs": [
    {
     "data": {
      "text/plain": [
       "array([[0, 0, 0, 0],\n",
       "       [0, 0, 0, 0],\n",
       "       [0, 0, 0, 0],\n",
       "       [0, 0, Fraction(1, 2), Fraction(1, 1)],\n",
       "       [0, 0, 0, 0]], dtype=object)"
      ]
     },
     "execution_count": 48,
     "metadata": {},
     "output_type": "execute_result"
    }
   ],
   "source": [
    "def random_rational():\n",
    "    x = np.random.rand()\n",
    "    if x < 0.3:\n",
    "        return Fraction(1,2)\n",
    "    elif x < 0.5:\n",
    "        return Fraction(2,3)\n",
    "    elif x < 0.7:\n",
    "        return Fraction(-3,4)\n",
    "    else:\n",
    "        return Fraction(1,1)\n",
    "\n",
    "def random_rational_matrix(m, n, p=0.1):\n",
    "    \"\"\"\n",
    "    m x n rational matrix\n",
    "    every entry is non-zero with probability p\n",
    "    \"\"\"\n",
    "    A = np.zeros((m,n), dtype=object)\n",
    "    for i in range(m):\n",
    "        for j in range(n):\n",
    "            if np.random.rand() < p:\n",
    "                A[i,j] = random_rational()\n",
    "                \n",
    "    return A\n",
    "\n",
    "np.random.seed(0)\n",
    "A = random_rational_matrix(5,4,0.2)\n",
    "A"
   ]
  },
  {
   "cell_type": "code",
   "execution_count": 50,
   "metadata": {},
   "outputs": [
    {
     "data": {
      "text/plain": [
       "True"
      ]
     },
     "execution_count": 50,
     "metadata": {},
     "output_type": "execute_result"
    }
   ],
   "source": [
    "L, E, U, P = leup(A)\n",
    "(L @ E @ U @ P == A).all()"
   ]
  },
  {
   "cell_type": "code",
   "execution_count": 51,
   "metadata": {},
   "outputs": [
    {
     "data": {
      "text/plain": [
       "array([[Fraction(0, 1), Fraction(0, 1), Fraction(0, 1), Fraction(0, 1)],\n",
       "       [Fraction(0, 1), Fraction(0, 1), Fraction(0, 1), Fraction(0, 1)],\n",
       "       [Fraction(0, 1), Fraction(0, 1), Fraction(0, 1), Fraction(0, 1)],\n",
       "       [Fraction(0, 1), Fraction(0, 1), Fraction(0, 1), Fraction(0, 1)],\n",
       "       [Fraction(0, 1), Fraction(0, 1), Fraction(0, 1), Fraction(0, 1)]],\n",
       "      dtype=object)"
      ]
     },
     "execution_count": 51,
     "metadata": {},
     "output_type": "execute_result"
    }
   ],
   "source": [
    "L @ E @ U @ P - A"
   ]
  },
  {
   "cell_type": "code",
   "execution_count": null,
   "metadata": {},
   "outputs": [],
   "source": []
  }
 ],
 "metadata": {
  "kernelspec": {
   "display_name": "Python [conda env:bats]",
   "language": "python",
   "name": "conda-env-bats-py"
  },
  "language_info": {
   "codemirror_mode": {
    "name": "ipython",
    "version": 3
   },
   "file_extension": ".py",
   "mimetype": "text/x-python",
   "name": "python",
   "nbconvert_exporter": "python",
   "pygments_lexer": "ipython3",
   "version": "3.7.10"
  }
 },
 "nbformat": 4,
 "nbformat_minor": 4
}
