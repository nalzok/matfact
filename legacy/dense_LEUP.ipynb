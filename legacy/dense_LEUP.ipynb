{
 "cells": [
  {
   "cell_type": "code",
   "execution_count": 16,
   "metadata": {},
   "outputs": [],
   "source": [
    "import numpy as np\n",
    "import scipy.linalg as la"
   ]
  },
  {
   "cell_type": "code",
   "execution_count": 106,
   "metadata": {},
   "outputs": [
    {
     "data": {
      "text/plain": [
       "array([[-0.28334707, -0.13120762, -0.20774252,  1.16265585],\n",
       "       [-1.25202378, -0.59953921,  0.46867528, -0.06123326],\n",
       "       [-0.16205225, -1.93986676, -0.54373147, -1.60366592],\n",
       "       [-0.39449985, -1.66466674, -0.6000887 ,  0.99746121],\n",
       "       [ 0.58503363,  0.3773792 ,  1.75879817, -0.49982664]])"
      ]
     },
     "execution_count": 106,
     "metadata": {},
     "output_type": "execute_result"
    }
   ],
   "source": [
    "m , n = 5, 4\n",
    "A = np.random.randn(m,n)\n",
    "A"
   ]
  },
  {
   "cell_type": "code",
   "execution_count": null,
   "metadata": {},
   "outputs": [],
   "source": [
    "A[0] = 0 # causes issue\n",
    "A[:,0] = 0 # causes issue\n",
    "A[0,0] = 0 # works fine"
   ]
  },
  {
   "cell_type": "code",
   "execution_count": 111,
   "metadata": {},
   "outputs": [],
   "source": [
    "def LEUP_fact(M):\n",
    "    m, n = M.shape\n",
    "    i, j = 0,0\n",
    "    E = np.array(M, copy = True)\n",
    "    L = np.eye(m)\n",
    "    U = np.eye(n)\n",
    "    P = np.eye(n)\n",
    "    while i < m and j < n:\n",
    "        # find column to swap with\n",
    "        j2 = j\n",
    "        while j2 < n and E[i,j2] == 0:\n",
    "            j2 += 1\n",
    "        if j2 == n:\n",
    "            # increment row\n",
    "            print(i)\n",
    "            i = i+1\n",
    "            continue\n",
    "        # else, we have a pivot\n",
    "        # swap columns of E, U\n",
    "        print(j,j2)\n",
    "        E[i:,[j, j2]] = E[i:,[j2,j]]\n",
    "        U[:,[j,j2]] = U[:,[j2,j]]\n",
    "        \n",
    "        # swap rows of U and P\n",
    "        U[[j, j2]] = U[[j2, j]] \n",
    "        P[[j, j2]]  = P[[j2, j]] \n",
    "        \n",
    "        # now do a schur complement\n",
    "        Aij = E[i,j].reshape(-1,1)\n",
    "        A2j = E[(i+1):,j].reshape(-1,1)\n",
    "        Ai2 = E[i,(j+1):].reshape(1,-1)\n",
    "        A22 = E[(i+1):,(j+1):]\n",
    "        \n",
    "        \n",
    "        U2 = np.eye(n)\n",
    "        try:\n",
    "            U2[i,(j+1):] = (la.inv(Aij)) @ Ai2 \n",
    "        except:\n",
    "            print('error with U at {},{}'.format(i,j))\n",
    "        U = U2 @ U\n",
    "        \n",
    "        L2 = np.eye(m)\n",
    "        try:\n",
    "            L2[(i+1):,j] = (A2j @ (la.inv(Aij))).flatten()\n",
    "            L = L @ L2\n",
    "        except:\n",
    "            print('error with L')\n",
    "        \n",
    "        # form schur complement and apply\n",
    "        try:\n",
    "            S = A22 - (A2j @ (1/(Aij)) @ (Ai2))\n",
    "            E[(i+1):,(j+1):] = S\n",
    "            E[i,(j+1):] = 0\n",
    "            E[(i+1):,j] = 0\n",
    "        except:\n",
    "            print(\"error with E\")\n",
    "\n",
    "        j = j+1\n",
    "        i = i+1\n",
    "        \n",
    "        \n",
    "    return L, E, U, P.T\n",
    "        "
   ]
  },
  {
   "cell_type": "markdown",
   "metadata": {},
   "source": [
    "TODO:\n",
    "* Debug issues above\n",
    "* Rational arithmetic (try Python libaries first),\n",
    "* Shape commutation algorithm (Prop 7)\n",
    "* Quiver algorithm (Alg 5)\n",
    "\n",
    "Last resort:\n",
    "https://caam37830.github.io/book/00_python/classes.html\n"
   ]
  },
  {
   "cell_type": "code",
   "execution_count": 121,
   "metadata": {},
   "outputs": [
    {
     "data": {
      "text/plain": [
       "array([[1, 1],\n",
       "       [0, 1]], dtype=object)"
      ]
     },
     "execution_count": 121,
     "metadata": {},
     "output_type": "execute_result"
    }
   ],
   "source": [
    "import bats\n",
    "A = [[bats.F2(1), bats.F2(1)], [bats.F2(0), bats.F2(1)]]\n",
    "Anp = np.array(A)\n",
    "Anp"
   ]
  },
  {
   "cell_type": "code",
   "execution_count": 122,
   "metadata": {},
   "outputs": [
    {
     "data": {
      "text/plain": [
       "array([[1, 0],\n",
       "       [0, 1]], dtype=object)"
      ]
     },
     "execution_count": 122,
     "metadata": {},
     "output_type": "execute_result"
    }
   ],
   "source": [
    "Anp @ Anp"
   ]
  },
  {
   "cell_type": "code",
   "execution_count": 123,
   "metadata": {},
   "outputs": [
    {
     "data": {
      "text/plain": [
       "340282366920938463463374607431768211456"
      ]
     },
     "execution_count": 123,
     "metadata": {},
     "output_type": "execute_result"
    }
   ],
   "source": [
    "2**128"
   ]
  },
  {
   "cell_type": "code",
   "execution_count": null,
   "metadata": {},
   "outputs": [],
   "source": []
  }
 ],
 "metadata": {
  "kernelspec": {
   "display_name": "Python [conda env:bats]",
   "language": "python",
   "name": "conda-env-bats-py"
  },
  "language_info": {
   "codemirror_mode": {
    "name": "ipython",
    "version": 3
   },
   "file_extension": ".py",
   "mimetype": "text/x-python",
   "name": "python",
   "nbconvert_exporter": "python",
   "pygments_lexer": "ipython3",
   "version": "3.7.10"
  }
 },
 "nbformat": 4,
 "nbformat_minor": 4
}
